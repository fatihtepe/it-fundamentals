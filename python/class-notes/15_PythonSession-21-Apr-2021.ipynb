{
 "cells": [
  {
   "cell_type": "markdown",
   "metadata": {},
   "source": [
    "<img src=\"https://docs.google.com/uc?id=14xeXxFrVRjvOoUYWn_GuyE-v84wVzrqr\" class=\"img-fluid\" alt=\"CLRWY\" width=\"400\" height=\"200\">"
   ]
  },
  {
   "cell_type": "markdown",
   "metadata": {},
   "source": [
    "<h1><p style=\"text-align: center; color:darkblue\">Python In-Class, <br>21 April 2021</p><h1>"
   ]
  },
  {
   "cell_type": "code",
   "execution_count": 3,
   "metadata": {},
   "outputs": [
    {
     "name": "stdout",
     "output_type": "stream",
     "text": [
      "give me a sentence :ben bir garip öğretmenim yoktur yardım edenimöğrencilerden\n",
      "the lengt of the longest word is : 19\n"
     ]
    }
   ],
   "source": [
    "sentence = input(\"give me a sentence :\")\n",
    "\n",
    "words = sentence.split()\n",
    "i = 0\n",
    "longest = 0\n",
    "while i < len(words) :\n",
    "    if len(words[i]) > longest :\n",
    "        longest = len(words[i])\n",
    "    i += 1\n",
    "\n",
    "print(\"the lengt of the longest word is :\", longest)"
   ]
  },
  {
   "cell_type": "code",
   "execution_count": 2,
   "metadata": {},
   "outputs": [
    {
     "data": {
      "text/plain": [
       "['ben', 'bir', 'cümle', 'girmiş', 'olayım']"
      ]
     },
     "execution_count": 2,
     "metadata": {},
     "output_type": "execute_result"
    }
   ],
   "source": [
    "\"ben bir cümle girmiş olayım\".split()"
   ]
  },
  {
   "cell_type": "code",
   "execution_count": 6,
   "metadata": {},
   "outputs": [
    {
     "name": "stdout",
     "output_type": "stream",
     "text": [
      "[1, 2, 3, 4, 5]\n"
     ]
    }
   ],
   "source": [
    "sayılar = []\n",
    "\n",
    "for i in range(1,6) :\n",
    "    sayılar.append(i)\n",
    "print(sayılar)"
   ]
  },
  {
   "cell_type": "code",
   "execution_count": 7,
   "metadata": {},
   "outputs": [],
   "source": [
    "eleman = \"ahmet -, clarusway[]\""
   ]
  },
  {
   "cell_type": "code",
   "execution_count": 8,
   "metadata": {},
   "outputs": [
    {
     "name": "stdout",
     "output_type": "stream",
     "text": [
      "a//h//m//e//t// //-//,// //c//l//a//r//u//s//w//a//y//[//]//"
     ]
    }
   ],
   "source": [
    "for i in eleman :\n",
    "    print(i, end = \"//\")"
   ]
  },
  {
   "cell_type": "code",
   "execution_count": null,
   "metadata": {},
   "outputs": [],
   "source": [
    "\"clarusway\""
   ]
  },
  {
   "cell_type": "code",
   "execution_count": 9,
   "metadata": {},
   "outputs": [
    {
     "name": "stdout",
     "output_type": "stream",
     "text": [
      "Give me a word :clarusway\n",
      "c-l-a-r-u-s-w-a-y"
     ]
    }
   ],
   "source": [
    "word = input(\"Give me a word :\")\n",
    "\n",
    "count = 0\n",
    "for i in word :\n",
    "    count += 1\n",
    "    if count < len(word) :\n",
    "        i = i + \"-\"\n",
    "    print(i, end = \"\")"
   ]
  },
  {
   "cell_type": "markdown",
   "metadata": {},
   "source": [
    "### Samanlıkta iğne arayalım mı?"
   ]
  },
  {
   "cell_type": "code",
   "execution_count": 12,
   "metadata": {},
   "outputs": [],
   "source": [
    "samanlık = [\"yumurta\", \"yaba\", \"inek\", \"iğne\", \"saman\", \"tezek\", \"tırmık\"]"
   ]
  },
  {
   "cell_type": "code",
   "execution_count": 13,
   "metadata": {},
   "outputs": [
    {
     "name": "stdout",
     "output_type": "stream",
     "text": [
      "iğne 3 numaralı indexte.\n"
     ]
    }
   ],
   "source": [
    "print(f\"iğne {samanlık.index('iğne')} numaralı indexte.\")"
   ]
  },
  {
   "cell_type": "markdown",
   "metadata": {},
   "source": [
    "### `Tuple` kullanarak çoklu değer assign etmek"
   ]
  },
  {
   "cell_type": "code",
   "execution_count": 14,
   "metadata": {},
   "outputs": [
    {
     "name": "stdout",
     "output_type": "stream",
     "text": [
      "five 5 True\n"
     ]
    }
   ],
   "source": [
    "v = (\"five\", 5, True)\n",
    "(x, y, z) = v\n",
    "print(x, y, z)"
   ]
  },
  {
   "cell_type": "code",
   "execution_count": null,
   "metadata": {},
   "outputs": [],
   "source": [
    "a, b, c = 1, 2, 3"
   ]
  },
  {
   "cell_type": "code",
   "execution_count": 19,
   "metadata": {},
   "outputs": [],
   "source": [
    "(monday, tuesday, wednesday, thursday, friday, saturday, sunday) = tuple(range(1,8))"
   ]
  },
  {
   "cell_type": "code",
   "execution_count": 20,
   "metadata": {},
   "outputs": [
    {
     "data": {
      "text/plain": [
       "7"
      ]
     },
     "execution_count": 20,
     "metadata": {},
     "output_type": "execute_result"
    }
   ],
   "source": [
    "sunday"
   ]
  },
  {
   "cell_type": "code",
   "execution_count": 21,
   "metadata": {},
   "outputs": [
    {
     "name": "stdout",
     "output_type": "stream",
     "text": [
      "[1, 2, 3, 4, '11', '22', 33]\n"
     ]
    }
   ],
   "source": [
    "print([1,2,3,4] + [\"11\", \"22\", 33])"
   ]
  },
  {
   "cell_type": "code",
   "execution_count": 22,
   "metadata": {},
   "outputs": [],
   "source": [
    "tt = (1,2, [1,3,5])"
   ]
  },
  {
   "cell_type": "code",
   "execution_count": null,
   "metadata": {},
   "outputs": [],
   "source": []
  },
  {
   "cell_type": "code",
   "execution_count": 1,
   "metadata": {
    "executionInfo": {
     "elapsed": 635,
     "status": "ok",
     "timestamp": 1619033723122,
     "user": {
      "displayName": "Joseph s",
      "photoUrl": "",
      "userId": "04636354074472831662"
     },
     "user_tz": -180
    },
    "id": "g4e0lfCh7Xqe"
   },
   "outputs": [],
   "source": [
    "tt = (1,2, [1,3,5])"
   ]
  },
  {
   "cell_type": "code",
   "execution_count": 3,
   "metadata": {
    "executionInfo": {
     "elapsed": 619,
     "status": "ok",
     "timestamp": 1619033743313,
     "user": {
      "displayName": "Joseph s",
      "photoUrl": "",
      "userId": "04636354074472831662"
     },
     "user_tz": -180
    },
    "id": "koGfpOQQ7eU-"
   },
   "outputs": [],
   "source": [
    "tt[2].append(4)"
   ]
  },
  {
   "cell_type": "code",
   "execution_count": 4,
   "metadata": {
    "colab": {
     "base_uri": "https://localhost:8080/"
    },
    "executionInfo": {
     "elapsed": 428,
     "status": "ok",
     "timestamp": 1619033746203,
     "user": {
      "displayName": "Joseph s",
      "photoUrl": "",
      "userId": "04636354074472831662"
     },
     "user_tz": -180
    },
    "id": "G19B_28c7iJp",
    "outputId": "a76c1ba0-b0f1-474f-8ba3-fe6c326857ee"
   },
   "outputs": [
    {
     "data": {
      "text/plain": [
       "(1, 2, [1, 3, 5, 4])"
      ]
     },
     "execution_count": 4,
     "metadata": {
      "tags": []
     },
     "output_type": "execute_result"
    }
   ],
   "source": [
    "tt"
   ]
  },
  {
   "cell_type": "code",
   "execution_count": 5,
   "metadata": {
    "executionInfo": {
     "elapsed": 762,
     "status": "ok",
     "timestamp": 1619033772466,
     "user": {
      "displayName": "Joseph s",
      "photoUrl": "",
      "userId": "04636354074472831662"
     },
     "user_tz": -180
    },
    "id": "5IcQDO4L7mfE"
   },
   "outputs": [],
   "source": [
    "x, y = (10, 20)"
   ]
  },
  {
   "cell_type": "code",
   "execution_count": 6,
   "metadata": {
    "colab": {
     "base_uri": "https://localhost:8080/"
    },
    "executionInfo": {
     "elapsed": 635,
     "status": "ok",
     "timestamp": 1619033780380,
     "user": {
      "displayName": "Joseph s",
      "photoUrl": "",
      "userId": "04636354074472831662"
     },
     "user_tz": -180
    },
    "id": "T4dyrABQ7s6S",
    "outputId": "4f47f744-e302-42ec-e780-ced8c8f98f69"
   },
   "outputs": [
    {
     "name": "stdout",
     "output_type": "stream",
     "text": [
      "10\n",
      "20\n"
     ]
    }
   ],
   "source": [
    "print(x)\n",
    "print(y)"
   ]
  },
  {
   "cell_type": "code",
   "execution_count": null,
   "metadata": {
    "id": "-E8o4J8h8BV8"
   },
   "outputs": [],
   "source": [
    "a, b = (10, 20, 30, 40)"
   ]
  },
  {
   "cell_type": "code",
   "execution_count": 7,
   "metadata": {
    "executionInfo": {
     "elapsed": 591,
     "status": "ok",
     "timestamp": 1619033973914,
     "user": {
      "displayName": "Joseph s",
      "photoUrl": "",
      "userId": "04636354074472831662"
     },
     "user_tz": -180
    },
    "id": "i0hdy81A7uzu"
   },
   "outputs": [],
   "source": [
    "a, _, b, _ = (10, 20, 30, 40)"
   ]
  },
  {
   "cell_type": "code",
   "execution_count": 8,
   "metadata": {
    "colab": {
     "base_uri": "https://localhost:8080/"
    },
    "executionInfo": {
     "elapsed": 629,
     "status": "ok",
     "timestamp": 1619033980597,
     "user": {
      "displayName": "Joseph s",
      "photoUrl": "",
      "userId": "04636354074472831662"
     },
     "user_tz": -180
    },
    "id": "_jaxvT8L8eIb",
    "outputId": "056b466f-58cf-44d1-b416-facda97bc938"
   },
   "outputs": [
    {
     "name": "stdout",
     "output_type": "stream",
     "text": [
      "10 30\n"
     ]
    }
   ],
   "source": [
    "print(a, b)"
   ]
  },
  {
   "cell_type": "code",
   "execution_count": 9,
   "metadata": {
    "colab": {
     "base_uri": "https://localhost:8080/",
     "height": 162
    },
    "executionInfo": {
     "elapsed": 623,
     "status": "error",
     "timestamp": 1619034047628,
     "user": {
      "displayName": "Joseph s",
      "photoUrl": "",
      "userId": "04636354074472831662"
     },
     "user_tz": -180
    },
    "id": "SvRFffgr8frV",
    "outputId": "863eb5da-05de-4d39-cda3-1bed1460493d"
   },
   "outputs": [
    {
     "ename": "ValueError",
     "evalue": "ignored",
     "output_type": "error",
     "traceback": [
      "\u001b[0;31m---------------------------------------------------------------------------\u001b[0m",
      "\u001b[0;31mValueError\u001b[0m                                Traceback (most recent call last)",
      "\u001b[0;32m<ipython-input-9-5b714be8d98b>\u001b[0m in \u001b[0;36m<module>\u001b[0;34m()\u001b[0m\n\u001b[0;32m----> 1\u001b[0;31m \u001b[0mx\u001b[0m\u001b[0;34m,\u001b[0m \u001b[0my\u001b[0m\u001b[0;34m,\u001b[0m \u001b[0mz\u001b[0m \u001b[0;34m=\u001b[0m \u001b[0;34m(\u001b[0m\u001b[0;36m11\u001b[0m\u001b[0;34m,\u001b[0m\u001b[0;36m22\u001b[0m\u001b[0;34m,\u001b[0m\u001b[0;36m33\u001b[0m\u001b[0;34m,\u001b[0m\u001b[0;36m44\u001b[0m\u001b[0;34m,\u001b[0m\u001b[0;36m55\u001b[0m\u001b[0;34m)\u001b[0m\u001b[0;34m\u001b[0m\u001b[0;34m\u001b[0m\u001b[0m\n\u001b[0m",
      "\u001b[0;31mValueError\u001b[0m: too many values to unpack (expected 3)"
     ]
    }
   ],
   "source": [
    "x, y, z = (11,22,33,44,55)"
   ]
  },
  {
   "cell_type": "code",
   "execution_count": 10,
   "metadata": {
    "executionInfo": {
     "elapsed": 626,
     "status": "ok",
     "timestamp": 1619034161695,
     "user": {
      "displayName": "Joseph s",
      "photoUrl": "",
      "userId": "04636354074472831662"
     },
     "user_tz": -180
    },
    "id": "geQAZHeE8r7j"
   },
   "outputs": [],
   "source": [
    "x, y, *z = (11,22,33,44,55,66)"
   ]
  },
  {
   "cell_type": "code",
   "execution_count": 11,
   "metadata": {
    "colab": {
     "base_uri": "https://localhost:8080/"
    },
    "executionInfo": {
     "elapsed": 637,
     "status": "ok",
     "timestamp": 1619034177133,
     "user": {
      "displayName": "Joseph s",
      "photoUrl": "",
      "userId": "04636354074472831662"
     },
     "user_tz": -180
    },
    "id": "-uoiAOlg8rsC",
    "outputId": "a82fa69c-3960-492b-f7a8-b40e6348f568"
   },
   "outputs": [
    {
     "name": "stdout",
     "output_type": "stream",
     "text": [
      "11\n"
     ]
    }
   ],
   "source": [
    "print(x)"
   ]
  },
  {
   "cell_type": "code",
   "execution_count": 12,
   "metadata": {
    "colab": {
     "base_uri": "https://localhost:8080/"
    },
    "executionInfo": {
     "elapsed": 637,
     "status": "ok",
     "timestamp": 1619034190054,
     "user": {
      "displayName": "Joseph s",
      "photoUrl": "",
      "userId": "04636354074472831662"
     },
     "user_tz": -180
    },
    "id": "u_2mrWDc9Cw-",
    "outputId": "827113eb-e357-481e-bffc-243b56313203"
   },
   "outputs": [
    {
     "name": "stdout",
     "output_type": "stream",
     "text": [
      "22\n"
     ]
    }
   ],
   "source": [
    "print(y)"
   ]
  },
  {
   "cell_type": "code",
   "execution_count": 13,
   "metadata": {
    "colab": {
     "base_uri": "https://localhost:8080/"
    },
    "executionInfo": {
     "elapsed": 622,
     "status": "ok",
     "timestamp": 1619034238952,
     "user": {
      "displayName": "Joseph s",
      "photoUrl": "",
      "userId": "04636354074472831662"
     },
     "user_tz": -180
    },
    "id": "TAF1NHzs9Cmr",
    "outputId": "01bfe9de-12e4-4831-bd67-9784c9129360"
   },
   "outputs": [
    {
     "name": "stdout",
     "output_type": "stream",
     "text": [
      "[33, 44, 55, 66]\n"
     ]
    }
   ],
   "source": [
    "print(z)"
   ]
  },
  {
   "cell_type": "code",
   "execution_count": 14,
   "metadata": {
    "executionInfo": {
     "elapsed": 767,
     "status": "ok",
     "timestamp": 1619034279681,
     "user": {
      "displayName": "Joseph s",
      "photoUrl": "",
      "userId": "04636354074472831662"
     },
     "user_tz": -180
    },
    "id": "_-nTe3J_9Ca1"
   },
   "outputs": [],
   "source": [
    "x, y, *_ = (11,22,33,44,55,66)"
   ]
  },
  {
   "cell_type": "code",
   "execution_count": 15,
   "metadata": {
    "executionInfo": {
     "elapsed": 735,
     "status": "ok",
     "timestamp": 1619034360029,
     "user": {
      "displayName": "Joseph s",
      "photoUrl": "",
      "userId": "04636354074472831662"
     },
     "user_tz": -180
    },
    "id": "cSdtqTV_9ovW"
   },
   "outputs": [],
   "source": [
    "x, y, *z, t = (11,22,33,44,55,66,77)"
   ]
  },
  {
   "cell_type": "code",
   "execution_count": 16,
   "metadata": {
    "colab": {
     "base_uri": "https://localhost:8080/"
    },
    "executionInfo": {
     "elapsed": 630,
     "status": "ok",
     "timestamp": 1619034377680,
     "user": {
      "displayName": "Joseph s",
      "photoUrl": "",
      "userId": "04636354074472831662"
     },
     "user_tz": -180
    },
    "id": "Y_6TX_fo9zjK",
    "outputId": "fa6a9790-90e3-4568-fd32-401cfdfe7208"
   },
   "outputs": [
    {
     "name": "stdout",
     "output_type": "stream",
     "text": [
      "77\n"
     ]
    }
   ],
   "source": [
    "print(t)"
   ]
  },
  {
   "cell_type": "code",
   "execution_count": 17,
   "metadata": {
    "colab": {
     "base_uri": "https://localhost:8080/"
    },
    "executionInfo": {
     "elapsed": 643,
     "status": "ok",
     "timestamp": 1619034413767,
     "user": {
      "displayName": "Joseph s",
      "photoUrl": "",
      "userId": "04636354074472831662"
     },
     "user_tz": -180
    },
    "id": "EUr1sFb19zik",
    "outputId": "b574a314-7762-43fd-ce4d-760f39592d2f"
   },
   "outputs": [
    {
     "name": "stdout",
     "output_type": "stream",
     "text": [
      "[33, 44, 55, 66]\n"
     ]
    }
   ],
   "source": [
    "print(z)"
   ]
  },
  {
   "cell_type": "code",
   "execution_count": 18,
   "metadata": {
    "executionInfo": {
     "elapsed": 659,
     "status": "ok",
     "timestamp": 1619034446109,
     "user": {
      "displayName": "Joseph s",
      "photoUrl": "",
      "userId": "04636354074472831662"
     },
     "user_tz": -180
    },
    "id": "OYbHGlAy9zWW"
   },
   "outputs": [],
   "source": [
    "x, y, *_, t, w = (11,22,33,44,55,66,77,88)"
   ]
  },
  {
   "cell_type": "code",
   "execution_count": 19,
   "metadata": {
    "colab": {
     "base_uri": "https://localhost:8080/"
    },
    "executionInfo": {
     "elapsed": 619,
     "status": "ok",
     "timestamp": 1619034458381,
     "user": {
      "displayName": "Joseph s",
      "photoUrl": "",
      "userId": "04636354074472831662"
     },
     "user_tz": -180
    },
    "id": "-xrkyW0m-MAg",
    "outputId": "fffba293-a122-4740-aed5-e0b8870c3a59"
   },
   "outputs": [
    {
     "name": "stdout",
     "output_type": "stream",
     "text": [
      "77\n"
     ]
    }
   ],
   "source": [
    "print(t)"
   ]
  },
  {
   "cell_type": "code",
   "execution_count": 20,
   "metadata": {
    "executionInfo": {
     "elapsed": 633,
     "status": "ok",
     "timestamp": 1619034840472,
     "user": {
      "displayName": "Joseph s",
      "photoUrl": "",
      "userId": "04636354074472831662"
     },
     "user_tz": -180
    },
    "id": "Ezjk8PUh-L15"
   },
   "outputs": [],
   "source": [
    "isimler = {\"ali\" : 33,\n",
    "           \"veli\" : 44,\n",
    "           \"ayşe\" : 2}"
   ]
  },
  {
   "cell_type": "code",
   "execution_count": 21,
   "metadata": {
    "colab": {
     "base_uri": "https://localhost:8080/"
    },
    "executionInfo": {
     "elapsed": 657,
     "status": "ok",
     "timestamp": 1619034879517,
     "user": {
      "displayName": "Joseph s",
      "photoUrl": "",
      "userId": "04636354074472831662"
     },
     "user_tz": -180
    },
    "id": "ayk-h8oP_58M",
    "outputId": "fae5fadc-fecd-42c0-dee9-270dc86a555f"
   },
   "outputs": [
    {
     "data": {
      "text/plain": [
       "dict_items([('ali', 33), ('veli', 44), ('ayşe', 2)])"
      ]
     },
     "execution_count": 21,
     "metadata": {
      "tags": []
     },
     "output_type": "execute_result"
    }
   ],
   "source": [
    "isimler.items()"
   ]
  },
  {
   "cell_type": "code",
   "execution_count": 22,
   "metadata": {
    "colab": {
     "base_uri": "https://localhost:8080/"
    },
    "executionInfo": {
     "elapsed": 1164,
     "status": "ok",
     "timestamp": 1619037294637,
     "user": {
      "displayName": "Joseph s",
      "photoUrl": "",
      "userId": "04636354074472831662"
     },
     "user_tz": -180
    },
    "id": "IvLbxkpb-L05",
    "outputId": "fa9862e8-e434-4a34-ad3f-809752a20547"
   },
   "outputs": [
    {
     "name": "stdout",
     "output_type": "stream",
     "text": [
      "ali 33\n",
      "veli 44\n",
      "ayşe 2\n"
     ]
    }
   ],
   "source": [
    "for a, b in isimler.items() :\n",
    "    print(a,b)"
   ]
  },
  {
   "cell_type": "code",
   "execution_count": 23,
   "metadata": {
    "colab": {
     "base_uri": "https://localhost:8080/"
    },
    "executionInfo": {
     "elapsed": 1371,
     "status": "ok",
     "timestamp": 1619037330285,
     "user": {
      "displayName": "Joseph s",
      "photoUrl": "",
      "userId": "04636354074472831662"
     },
     "user_tz": -180
    },
    "id": "hjGcfNQJ_nsz",
    "outputId": "da0bd549-4575-4925-de4f-7310723e1170"
   },
   "outputs": [
    {
     "name": "stdout",
     "output_type": "stream",
     "text": [
      "('ali', 33)\n",
      "('veli', 44)\n",
      "('ayşe', 2)\n"
     ]
    }
   ],
   "source": [
    "for i in isimler.items() :\n",
    "    print(i)"
   ]
  },
  {
   "cell_type": "code",
   "execution_count": 24,
   "metadata": {
    "executionInfo": {
     "elapsed": 716,
     "status": "ok",
     "timestamp": 1619037365396,
     "user": {
      "displayName": "Joseph s",
      "photoUrl": "",
      "userId": "04636354074472831662"
     },
     "user_tz": -180
    },
    "id": "n_9uMn_s_ndM"
   },
   "outputs": [],
   "source": [
    "xx = (1,2,3)"
   ]
  },
  {
   "cell_type": "code",
   "execution_count": 25,
   "metadata": {
    "colab": {
     "base_uri": "https://localhost:8080/"
    },
    "executionInfo": {
     "elapsed": 624,
     "status": "ok",
     "timestamp": 1619037368705,
     "user": {
      "displayName": "Joseph s",
      "photoUrl": "",
      "userId": "04636354074472831662"
     },
     "user_tz": -180
    },
    "id": "6tI1Jlb9JWHV",
    "outputId": "c933e495-f61c-4e4b-964c-258c3241d34c"
   },
   "outputs": [
    {
     "name": "stdout",
     "output_type": "stream",
     "text": [
      "(1, 2, 3)\n"
     ]
    }
   ],
   "source": [
    "print(xx)"
   ]
  },
  {
   "cell_type": "code",
   "execution_count": 26,
   "metadata": {
    "colab": {
     "base_uri": "https://localhost:8080/"
    },
    "executionInfo": {
     "elapsed": 3778,
     "status": "ok",
     "timestamp": 1619038052260,
     "user": {
      "displayName": "Joseph s",
      "photoUrl": "",
      "userId": "04636354074472831662"
     },
     "user_tz": -180
    },
    "id": "80f7tn7cJVdH",
    "outputId": "f56933fa-d5b6-4805-de00-d91c2dddf5b1"
   },
   "outputs": [
    {
     "name": "stdout",
     "output_type": "stream",
     "text": [
      "Enter a number between 1-10 :5\n",
      "5x0 =  0\n",
      "5x1 =  5\n",
      "5x2 =  10\n",
      "5x3 =  15\n",
      "5x4 =  20\n",
      "5x5 =  25\n",
      "5x6 =  30\n",
      "5x7 =  35\n",
      "5x8 =  40\n",
      "5x9 =  45\n",
      "5x10 =  50\n"
     ]
    }
   ],
   "source": [
    "number = int(input(\"Enter a number between 1-10 :\"))\n",
    "\n",
    "for i in range(11) :\n",
    "    print(\"{}x{} = \".format(number, i), number * i)"
   ]
  },
  {
   "cell_type": "code",
   "execution_count": 27,
   "metadata": {
    "colab": {
     "base_uri": "https://localhost:8080/"
    },
    "executionInfo": {
     "elapsed": 4604,
     "status": "ok",
     "timestamp": 1619038148581,
     "user": {
      "displayName": "Joseph s",
      "photoUrl": "",
      "userId": "04636354074472831662"
     },
     "user_tz": -180
    },
    "id": "BZkDvjFlMAfF",
    "outputId": "530e4871-d93e-4400-ecfa-a3b6cf004c5f"
   },
   "outputs": [
    {
     "name": "stdout",
     "output_type": "stream",
     "text": [
      "Enter a number between 1-10 :6\n",
      "6x0 = 0\n",
      "6x1 = 6\n",
      "6x2 = 12\n",
      "6x3 = 18\n",
      "6x4 = 24\n",
      "6x5 = 30\n",
      "6x6 = 36\n",
      "6x7 = 42\n",
      "6x8 = 48\n",
      "6x9 = 54\n",
      "6x10 = 60\n"
     ]
    }
   ],
   "source": [
    "number = int(input(\"Enter a number between 1-10 :\"))\n",
    "\n",
    "for i in range(11) :\n",
    "    print(\"{}x{} = {}\".format(number, i, number*i))"
   ]
  },
  {
   "cell_type": "code",
   "execution_count": null,
   "metadata": {
    "id": "kmAuzbWiKz3S"
   },
   "outputs": [],
   "source": []
  },
  {
   "cell_type": "code",
   "execution_count": 29,
   "metadata": {
    "executionInfo": {
     "elapsed": 637,
     "status": "ok",
     "timestamp": 1619038428843,
     "user": {
      "displayName": "Joseph s",
      "photoUrl": "",
      "userId": "04636354074472831662"
     },
     "user_tz": -180
    },
    "id": "H-BbYnZlKznh"
   },
   "outputs": [],
   "source": [
    "seq = range(5)"
   ]
  },
  {
   "cell_type": "code",
   "execution_count": 30,
   "metadata": {
    "colab": {
     "base_uri": "https://localhost:8080/"
    },
    "executionInfo": {
     "elapsed": 638,
     "status": "ok",
     "timestamp": 1619038448576,
     "user": {
      "displayName": "Joseph s",
      "photoUrl": "",
      "userId": "04636354074472831662"
     },
     "user_tz": -180
    },
    "id": "8RTOhLVcKzYJ",
    "outputId": "3a0c04a3-6462-4822-d243-75b83c6d56ff"
   },
   "outputs": [
    {
     "name": "stdout",
     "output_type": "stream",
     "text": [
      "0\n",
      "1\n",
      "2\n",
      "3\n",
      "4\n"
     ]
    }
   ],
   "source": [
    "for i in seq :\n",
    "    print(i)"
   ]
  },
  {
   "cell_type": "code",
   "execution_count": 31,
   "metadata": {
    "colab": {
     "base_uri": "https://localhost:8080/"
    },
    "executionInfo": {
     "elapsed": 402,
     "status": "ok",
     "timestamp": 1619038467276,
     "user": {
      "displayName": "Joseph s",
      "photoUrl": "",
      "userId": "04636354074472831662"
     },
     "user_tz": -180
    },
    "id": "of9TFpIlNidp",
    "outputId": "d3118053-d99a-4b0f-cdaa-c2026e7bc4a0"
   },
   "outputs": [
    {
     "name": "stdout",
     "output_type": "stream",
     "text": [
      "[0, 1, 2, 3, 4]\n"
     ]
    }
   ],
   "source": [
    "print(list(seq))"
   ]
  },
  {
   "cell_type": "code",
   "execution_count": 32,
   "metadata": {
    "colab": {
     "base_uri": "https://localhost:8080/"
    },
    "executionInfo": {
     "elapsed": 389,
     "status": "ok",
     "timestamp": 1619038478356,
     "user": {
      "displayName": "Joseph s",
      "photoUrl": "",
      "userId": "04636354074472831662"
     },
     "user_tz": -180
    },
    "id": "mjMUDFRxNnHH",
    "outputId": "c29cce82-ca90-4222-b283-61df813f65d6"
   },
   "outputs": [
    {
     "name": "stdout",
     "output_type": "stream",
     "text": [
      "(0, 1, 2, 3, 4)\n"
     ]
    }
   ],
   "source": [
    "print(tuple(seq))"
   ]
  },
  {
   "cell_type": "code",
   "execution_count": 33,
   "metadata": {
    "colab": {
     "base_uri": "https://localhost:8080/"
    },
    "executionInfo": {
     "elapsed": 604,
     "status": "ok",
     "timestamp": 1619038496522,
     "user": {
      "displayName": "Joseph s",
      "photoUrl": "",
      "userId": "04636354074472831662"
     },
     "user_tz": -180
    },
    "id": "d80-AVgQNpxc",
    "outputId": "a83b69fe-16b7-4774-afa5-58268a66c2ec"
   },
   "outputs": [
    {
     "name": "stdout",
     "output_type": "stream",
     "text": [
      "0 1 2 3 4\n"
     ]
    }
   ],
   "source": [
    "print(* seq)"
   ]
  },
  {
   "cell_type": "code",
   "execution_count": 34,
   "metadata": {
    "colab": {
     "base_uri": "https://localhost:8080/"
    },
    "executionInfo": {
     "elapsed": 636,
     "status": "ok",
     "timestamp": 1619038637605,
     "user": {
      "displayName": "Joseph s",
      "photoUrl": "",
      "userId": "04636354074472831662"
     },
     "user_tz": -180
    },
    "id": "vxaExdftNuSK",
    "outputId": "bcf60628-c04e-47b7-f773-e79f297b71fd"
   },
   "outputs": [
    {
     "name": "stdout",
     "output_type": "stream",
     "text": [
      "range(0, 11)\n"
     ]
    }
   ],
   "source": [
    "print(range(11))"
   ]
  },
  {
   "cell_type": "code",
   "execution_count": 35,
   "metadata": {
    "colab": {
     "base_uri": "https://localhost:8080/"
    },
    "executionInfo": {
     "elapsed": 406,
     "status": "ok",
     "timestamp": 1619038650555,
     "user": {
      "displayName": "Joseph s",
      "photoUrl": "",
      "userId": "04636354074472831662"
     },
     "user_tz": -180
    },
    "id": "Ce39KhUEOQuB",
    "outputId": "f732adba-c0a4-4b45-e9ea-ff1fd29a74bb"
   },
   "outputs": [
    {
     "name": "stdout",
     "output_type": "stream",
     "text": [
      "0 1 2 3 4 5 6 7 8 9 10\n"
     ]
    }
   ],
   "source": [
    "print(* range(11))"
   ]
  },
  {
   "cell_type": "code",
   "execution_count": 36,
   "metadata": {
    "colab": {
     "base_uri": "https://localhost:8080/"
    },
    "executionInfo": {
     "elapsed": 699,
     "status": "ok",
     "timestamp": 1619038783457,
     "user": {
      "displayName": "Joseph s",
      "photoUrl": "",
      "userId": "04636354074472831662"
     },
     "user_tz": -180
    },
    "id": "8kdjlmUKOT78",
    "outputId": "b5771a45-beb5-4f90-c5e1-4716af21b628"
   },
   "outputs": [
    {
     "name": "stdout",
     "output_type": "stream",
     "text": [
      "s e p a r a t e\n"
     ]
    }
   ],
   "source": [
    "print(* \"separate\")"
   ]
  },
  {
   "cell_type": "code",
   "execution_count": 46,
   "metadata": {
    "executionInfo": {
     "elapsed": 621,
     "status": "ok",
     "timestamp": 1619039683012,
     "user": {
      "displayName": "Joseph s",
      "photoUrl": "",
      "userId": "04636354074472831662"
     },
     "user_tz": -180
    },
    "id": "3YpkLKqlO0T-"
   },
   "outputs": [],
   "source": [
    "isimler = [\"tarık\", \"sevda\", \"selim\"]\n",
    "yaşlar = [11, 22, 33]"
   ]
  },
  {
   "cell_type": "code",
   "execution_count": 47,
   "metadata": {
    "executionInfo": {
     "elapsed": 611,
     "status": "ok",
     "timestamp": 1619039686619,
     "user": {
      "displayName": "Joseph s",
      "photoUrl": "",
      "userId": "04636354074472831662"
     },
     "user_tz": -180
    },
    "id": "CnPNGTobQpHz"
   },
   "outputs": [],
   "source": [
    "xx = zip(isimler, yaşlar)"
   ]
  },
  {
   "cell_type": "code",
   "execution_count": 49,
   "metadata": {
    "colab": {
     "base_uri": "https://localhost:8080/"
    },
    "executionInfo": {
     "elapsed": 616,
     "status": "ok",
     "timestamp": 1619039711799,
     "user": {
      "displayName": "Joseph s",
      "photoUrl": "",
      "userId": "04636354074472831662"
     },
     "user_tz": -180
    },
    "id": "5QYbU4DNQo9m",
    "outputId": "fb087e08-a4c9-44ea-b0f7-aef65ce954d8"
   },
   "outputs": [
    {
     "name": "stdout",
     "output_type": "stream",
     "text": [
      "[]\n"
     ]
    }
   ],
   "source": [
    "print(list(xx))"
   ]
  },
  {
   "cell_type": "code",
   "execution_count": 48,
   "metadata": {
    "colab": {
     "base_uri": "https://localhost:8080/"
    },
    "executionInfo": {
     "elapsed": 603,
     "status": "ok",
     "timestamp": 1619039693919,
     "user": {
      "displayName": "Joseph s",
      "photoUrl": "",
      "userId": "04636354074472831662"
     },
     "user_tz": -180
    },
    "id": "9gPVxgAGQ_Nn",
    "outputId": "ef800c04-d9c6-4c20-ef1a-b0b6e9c54130"
   },
   "outputs": [
    {
     "name": "stdout",
     "output_type": "stream",
     "text": [
      "tarık 11\n",
      "sevda 22\n",
      "selim 33\n"
     ]
    }
   ],
   "source": [
    "for isim, yas in xx :\n",
    "    print(isim, yas)"
   ]
  },
  {
   "cell_type": "code",
   "execution_count": null,
   "metadata": {
    "id": "y9J2hXKmRm19"
   },
   "outputs": [],
   "source": [
    "print()"
   ]
  }
 ],
 "metadata": {
  "colab": {
   "authorship_tag": "ABX9TyP4Y7cN5zL1juIspuKQPufT",
   "name": "15_PythonSession-21-Apr-2021.ipynb",
   "provenance": []
  },
  "kernelspec": {
   "display_name": "Python 3",
   "language": "python",
   "name": "python3"
  },
  "language_info": {
   "codemirror_mode": {
    "name": "ipython",
    "version": 3
   },
   "file_extension": ".py",
   "mimetype": "text/x-python",
   "name": "python",
   "nbconvert_exporter": "python",
   "pygments_lexer": "ipython3",
   "version": "3.7.3"
  }
 },
 "nbformat": 4,
 "nbformat_minor": 1
}
